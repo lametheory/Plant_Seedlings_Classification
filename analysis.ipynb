{
 "cells": [
  {
   "cell_type": "code",
   "execution_count": 1,
   "metadata": {
    "_cell_guid": "e542f02f-2ba9-4eda-a521-55e12bf28178",
    "_uuid": "03e7f1631f5f3adbbd04b3dfbbfc7bb9c9b90b8d",
    "collapsed": true
   },
   "outputs": [],
   "source": [
    "import glob\n",
    "import os\n",
    "from PIL import Image, ImageOps\n",
    "import numpy as np\n",
    "from scipy.misc import imresize\n",
    "from sklearn.model_selection import train_test_split\n",
    "from sklearn.preprocessing import LabelBinarizer"
   ]
  },
  {
   "cell_type": "code",
   "execution_count": 2,
   "metadata": {
    "collapsed": true
   },
   "outputs": [],
   "source": [
    "z = glob.glob('train/*/*.png')\n",
    "#z = glob.glob('test_train/*/*.png')\n",
    "ori_label = []\n",
    "ori_imgs = []\n",
    "for fn in z:\n",
    "    if fn[-3:] != 'png':\n",
    "        continue\n",
    "    ori_label.append(fn.split('/')[-2])\n",
    "    new_img = Image.open(fn)\n",
    "    ori_imgs.append(ImageOps.fit(new_img, (48, 48), Image.ANTIALIAS).convert('RGB'))\n",
    "#print(z)"
   ]
  },
  {
   "cell_type": "code",
   "execution_count": 3,
   "metadata": {
    "_cell_guid": "545b72a2-edd6-4b1c-acb6-93e407169ab2",
    "_uuid": "3a3cda504c889472a7e5c16c95478b22a317a9ac"
   },
   "outputs": [
    {
     "data": {
      "image/png": "[encoded data removed]",
      "text/plain": [
       "<PIL.Image.Image image mode=RGB size=48x48 at 0x103626F60>"
      ]
     },
     "execution_count": 3,
     "metadata": {},
     "output_type": "execute_result"
    }
   ],
   "source": [
    "ori_imgs[1]"
   ]
  },
  {
   "cell_type": "code",
   "execution_count": 4,
   "metadata": {
    "_cell_guid": "ca1dd2ef-f1aa-4670-92de-c39c481b8463",
    "_uuid": "7d10dfdba4b460ad1e8b20407ea27ac454a7906c",
    "collapsed": true
   },
   "outputs": [],
   "source": [
    "imgs = np.array([np.array(im) for im in ori_imgs])\n",
    "imgs = imgs.reshape(imgs.shape[0], 48, 48, 3) / 255\n",
    "lb = LabelBinarizer().fit(ori_label)\n",
    "label = lb.transform(ori_label) "
   ]
  },
  {
   "cell_type": "code",
   "execution_count": 5,
   "metadata": {
    "_cell_guid": "1de7b866-7102-41e8-a92b-86471c5f5706",
    "_uuid": "557c146f2f9c6631acc2f2a907b9b49282a649ee",
    "collapsed": true
   },
   "outputs": [],
   "source": [
    "trainX, validX, trainY, validY = train_test_split(imgs, label, test_size=0.05, random_state=42)"
   ]
  },
  {
   "cell_type": "code",
   "execution_count": 6,
   "metadata": {
    "_cell_guid": "cf5455a0-c6ef-4795-871f-3a2fff25a569",
    "_uuid": "e1ed352922952c8dd83c1699e6308ca182ae4dd4"
   },
   "outputs": [
    {
     "name": "stderr",
     "output_type": "stream",
     "text": [
      "Using TensorFlow backend.\n"
     ]
    }
   ],
   "source": [
    "from keras.layers import Dropout, Input, Dense, Activation,GlobalMaxPooling2D, BatchNormalization, Flatten, Conv2D, MaxPooling2D\n",
    "from keras.models import Model, load_model\n",
    "from keras.optimizers import Adam"
   ]
  },
  {
   "cell_type": "code",
   "execution_count": 7,
   "metadata": {
    "_cell_guid": "3aa8b322-1011-468b-b730-b8cd584576bf",
    "_uuid": "664da8ae62cbeb72bb7b696c8351a62167248206"
   },
   "outputs": [
    {
     "name": "stdout",
     "output_type": "stream",
     "text": [
      "_________________________________________________________________\n",
      "Layer (type)                 Output Shape              Param #   \n",
      "=================================================================\n",
      "input_1 (InputLayer)         (None, 48, 48, 3)         0         \n",
      "_________________________________________________________________\n",
      "conv2d_1 (Conv2D)            (None, 46, 46, 16)        448       \n",
      "_________________________________________________________________\n",
      "batch_normalization_1 (Batch (None, 46, 46, 16)        64        \n",
      "_________________________________________________________________\n",
      "activation_1 (Activation)    (None, 46, 46, 16)        0         \n",
      "_________________________________________________________________\n",
      "conv2d_2 (Conv2D)            (None, 44, 44, 16)        2320      \n",
      "_________________________________________________________________\n",
      "batch_normalization_2 (Batch (None, 44, 44, 16)        64        \n",
      "_________________________________________________________________\n",
      "activation_2 (Activation)    (None, 44, 44, 16)        0         \n",
      "_________________________________________________________________\n",
      "max_pooling2d_1 (MaxPooling2 (None, 22, 22, 16)        0         \n",
      "_________________________________________________________________\n",
      "conv2d_3 (Conv2D)            (None, 20, 20, 32)        4640      \n",
      "_________________________________________________________________\n",
      "batch_normalization_3 (Batch (None, 20, 20, 32)        128       \n",
      "_________________________________________________________________\n",
      "activation_3 (Activation)    (None, 20, 20, 32)        0         \n",
      "_________________________________________________________________\n",
      "conv2d_4 (Conv2D)            (None, 18, 18, 32)        9248      \n",
      "_________________________________________________________________\n",
      "batch_normalization_4 (Batch (None, 18, 18, 32)        128       \n",
      "_________________________________________________________________\n",
      "activation_4 (Activation)    (None, 18, 18, 32)        0         \n",
      "_________________________________________________________________\n",
      "global_max_pooling2d_1 (Glob (None, 32)                0         \n",
      "_________________________________________________________________\n",
      "dense_1 (Dense)              (None, 64)                2112      \n",
      "_________________________________________________________________\n",
      "dropout_1 (Dropout)          (None, 64)                0         \n",
      "_________________________________________________________________\n",
      "dense_2 (Dense)              (None, 32)                2080      \n",
      "_________________________________________________________________\n",
      "dropout_2 (Dropout)          (None, 32)                0         \n",
      "_________________________________________________________________\n",
      "dense_3 (Dense)              (None, 12)                396       \n",
      "=================================================================\n",
      "Total params: 21,628\n",
      "Trainable params: 21,436\n",
      "Non-trainable params: 192\n",
      "_________________________________________________________________\n"
     ]
    }
   ],
   "source": [
    "IM_input = Input((48, 48, 3))\n",
    "IM = Conv2D(16, (3, 3))(IM_input)\n",
    "IM = BatchNormalization(axis = 3)(IM)\n",
    "IM = Activation('relu')(IM)\n",
    "IM = Conv2D(16, (3, 3))(IM)\n",
    "IM = BatchNormalization(axis = 3)(IM)\n",
    "IM = Activation('relu')(IM)\n",
    "IM = MaxPooling2D((2, 2), strides=(2, 2))(IM)\n",
    "IM = Conv2D(32, (3, 3))(IM)\n",
    "IM = BatchNormalization(axis = 3)(IM)\n",
    "IM = Activation('relu')(IM)\n",
    "IM = Conv2D(32, (3, 3))(IM)\n",
    "IM = BatchNormalization(axis = 3)(IM)\n",
    "IM = Activation('relu')(IM)\n",
    "IM = GlobalMaxPooling2D()(IM)\n",
    "\n",
    "IM = Dense(64, activation='relu')(IM)\n",
    "IM = Dropout(0.5)(IM)\n",
    "IM = Dense(32, activation='relu')(IM)\n",
    "IM = Dropout(0.5)(IM)\n",
    "IM = Dense(12, activation='softmax')(IM)\n",
    "model = Model(inputs=IM_input, outputs=IM)\n",
    "model.summary()\n",
    "model.compile(loss='categorical_crossentropy',\n",
    "              optimizer=Adam(lr=1e-4), metrics=['acc'])"
   ]
  },
  {
   "cell_type": "code",
   "execution_count": 8,
   "metadata": {
    "_cell_guid": "e99dbd17-369c-4617-9d7e-a630f97d79d1",
    "_uuid": "3bdc0043d3c74479763cffb1df6c67df9224ec9c",
    "collapsed": true
   },
   "outputs": [],
   "source": [
    "from keras.callbacks import LearningRateScheduler, EarlyStopping\n",
    "from keras.callbacks import ModelCheckpoint"
   ]
  },
  {
   "cell_type": "code",
   "execution_count": null,
   "metadata": {
    "_cell_guid": "6f72071b-14cf-4e3f-845f-992be6f7f52c",
    "_uuid": "3776b4ad6a904fa3c204d31e19402d9a2d76dee1",
    "scrolled": false
   },
   "outputs": [
    {
     "name": "stdout",
     "output_type": "stream",
     "text": [
      "Train on 4512 samples, validate on 238 samples\n",
      "Epoch 1/200\n",
      "4096/4512 [==========================>...] - ETA: 5s - loss: 2.7823 - acc: 0.0957"
     ]
    }
   ],
   "source": [
    "batch_size = 64\n",
    "annealer = LearningRateScheduler(lambda x: 1e-3 * 0.9 ** x)\n",
    "earlystop = EarlyStopping(patience=10)\n",
    "modelsave = ModelCheckpoint(\n",
    "    filepath='model.h5', save_best_only=True, verbose=1)\n",
    "model.fit(\n",
    "    trainX, trainY, batch_size=batch_size,\n",
    "    epochs=200, \n",
    "    validation_data=(validX, validY),\n",
    "    callbacks=[annealer, earlystop, modelsave]\n",
    ")\n"
   ]
  },
  {
   "cell_type": "code",
   "execution_count": null,
   "metadata": {
    "_cell_guid": "1f953f1c-39b3-4160-89aa-e546719f2fef",
    "_uuid": "20834884a92a67eb750e7d70350ca86585abfef3",
    "collapsed": true
   },
   "outputs": [],
   "source": [
    "z = glob.glob('../input/test/*.png')\n",
    "test_imgs = []\n",
    "names = []\n",
    "for fn in z:\n",
    "    if fn[-3:] != 'png':\n",
    "        continue\n",
    "    names.append(fn.split('/')[-1])\n",
    "    new_img = Image.open(fn)\n",
    "    test_img = ImageOps.fit(new_img, (48, 48), Image.ANTIALIAS).convert('RGB')\n",
    "    test_imgs.append(test_img)\n",
    "model = load_model('model.h5')"
   ]
  },
  {
   "cell_type": "code",
   "execution_count": null,
   "metadata": {
    "_cell_guid": "42ee9ca8-ae2f-469e-b881-3962281f6967",
    "_uuid": "b6bff74f20c089f41c3b4a68ccd10df6a48afd2b",
    "collapsed": true
   },
   "outputs": [],
   "source": [
    "timgs = np.array([np.array(im) for im in test_imgs])\n",
    "testX = timgs.reshape(timgs.shape[0], 48, 48, 3) / 255"
   ]
  },
  {
   "cell_type": "code",
   "execution_count": null,
   "metadata": {
    "_cell_guid": "4036ca95-2dd7-4bc2-83cc-49a61b5516cb",
    "_uuid": "fb2e7a394c6de6daff7963689cec3783a7160846",
    "collapsed": true
   },
   "outputs": [],
   "source": [
    "yhat = model.predict(testX)\n",
    "test_y = lb.inverse_transform(yhat)"
   ]
  },
  {
   "cell_type": "code",
   "execution_count": null,
   "metadata": {
    "_cell_guid": "eeec9d02-0100-48aa-b0e8-0e462b547b7c",
    "_uuid": "4e8c0c56c92a518e984a2e8a392c437a4ccb4bc9",
    "collapsed": true
   },
   "outputs": [],
   "source": [
    "import pandas as pd"
   ]
  },
  {
   "cell_type": "code",
   "execution_count": null,
   "metadata": {
    "_cell_guid": "ba5e4b1e-5e87-4648-9c3e-c6a68064c4fb",
    "_uuid": "0058bfe0909c8d0fc881602a7edd9c7e16a597f0",
    "collapsed": true
   },
   "outputs": [],
   "source": [
    "df = pd.DataFrame(data={'file': names, 'species': test_y})\n",
    "df_sort = df.sort_values(by=['file'])\n",
    "df_sort.to_csv('results.csv', index=False)"
   ]
  }
 ],
 "metadata": {
  "kernelspec": {
   "display_name": "Python 3",
   "language": "python",
   "name": "python3"
  },
  "language_info": {
   "codemirror_mode": {
    "name": "ipython",
    "version": 3
   },
   "file_extension": ".py",
   "mimetype": "text/x-python",
   "name": "python",
   "nbconvert_exporter": "python",
   "pygments_lexer": "ipython3",
   "version": "3.6.3"
  }
 },
 "nbformat": 4,
 "nbformat_minor": 1
}
